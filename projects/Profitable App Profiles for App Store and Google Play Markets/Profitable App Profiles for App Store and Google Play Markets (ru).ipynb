{
 "cells": [
  {
   "cell_type": "markdown",
   "metadata": {},
   "source": [
    "# Прибыльные профили приложений для App Store и Google Play Markets"
   ]
  },
  {
   "cell_type": "markdown",
   "metadata": {},
   "source": [
    "## Описание проблемы"
   ]
  },
  {
   "cell_type": "markdown",
   "metadata": {},
   "source": [
    "Компания занимающаяся разработкой условно-бесплатных мобильных приложений для IOS и Android, получающих доход за счет рекламы (Adware), имеет цель достичь большего количества использования этих приложений среди пользователей.\n",
    "\n",
    "Чтобы добиться этого, необходимо сделать предварительный анализ рынка приложений на предмет популярности  различных приложений среди разных групп пользователей. Ориентировавшись на полученные данные, компания сможет вырабатать успешную стратегию, акцентируя усилия на более перспективных приложениях.\n",
    "Сделать такой анализ можно воспользовавшись находящимися в открытом доступе данными с площадок App Store и Google Markets."
   ]
  },
  {
   "cell_type": "markdown",
   "metadata": {},
   "source": [
    "## Цель проекта"
   ]
  },
  {
   "cell_type": "markdown",
   "metadata": {},
   "source": [
    "Помочь разработчикам определить, какой тип мобилных приложений будет наиболее востребованным среди пользователей"
   ]
  },
  {
   "cell_type": "markdown",
   "metadata": {},
   "source": [
    "## Открытие файла и первоначальное ознакомление с данными "
   ]
  },
  {
   "cell_type": "markdown",
   "metadata": {},
   "source": [
    "По состоянию на первый квартал 2020 года площадки Apple App Store и Google Play Market [являются наиболее популярными среди пользователей](https://www.statista.com/statistics/276623/number-of-apps-available-in-leading-app-stores/).\n",
    "![](apps_chart.png)\n",
    "Исходя из этого, для анализа были выбраны соответствующие наборы данных:\n",
    "* [Google Play Store Apps](https://www.kaggle.com/lava18/google-play-store-apps) содержит около 10 тысяч приложений, может быть скачан [здесь](https://dq-content.s3.amazonaws.com/350/googleplaystore.csv)\n",
    "* [Mobile App Store](https://www.kaggle.com/ramamet4/app-store-apple-data-set-10k-apps/metadata) содержит около 7 тысяч приложений, может быть скачан [здесь](https://dq-content.s3.amazonaws.com/350/AppleStore.csv)"
   ]
  },
  {
   "cell_type": "markdown",
   "metadata": {},
   "source": [
    "Для начала работы с наборами данных необходимо конвертировать CSV файлы с данными в списки.\n",
    "Создадим для этого функцию `csv_to_list()`, принимающую имя файла в качестве значения аргумента. Присвоим полученные списки переменным `apple_store_data` и `google_play_data`."
   ]
  },
  {
   "cell_type": "code",
   "execution_count": 1,
   "metadata": {},
   "outputs": [],
   "source": [
    "def csv_to_list(csv_file_name):\n",
    "    from csv import reader\n",
    "    opened_file = open(csv_file_name)\n",
    "    read_file = reader(opened_file)\n",
    "    apps_data = list(read_file)\n",
    "    opened_file.close\n",
    "    return apps_data\n",
    "\n",
    "### Apple Store Data Set ###\n",
    "apple_store_data = csv_to_list('AppleStore.csv')\n",
    "\n",
    "### Google Play Data Set ###\n",
    "google_play_data = csv_to_list('googleplaystore.csv')"
   ]
  },
  {
   "cell_type": "markdown",
   "metadata": {},
   "source": [
    "Для облегчения ознакомления с наборами данных создадим функцию `explore_data()`, которая будет выводить в читабельном виде срез значений из указанного списка в заданном диапазоне и количество рядов и колонок в указанном списке."
   ]
  },
  {
   "cell_type": "code",
   "execution_count": 2,
   "metadata": {},
   "outputs": [],
   "source": [
    "def explore_data(dataset, start, end, rows_and_columns = False):\n",
    "    dataset_slice = dataset[start:end]\n",
    "    for row in dataset_slice:\n",
    "        print(row)\n",
    "        print('\\n')\n",
    "    if rows_and_columns:\n",
    "        print('Number of rows: ', len(dataset) - 1)\n",
    "        print('Number of columns: ', len(dataset[0]))"
   ]
  },
  {
   "cell_type": "code",
   "execution_count": 3,
   "metadata": {
    "scrolled": true
   },
   "outputs": [
    {
     "name": "stdout",
     "output_type": "stream",
     "text": [
      "['App', 'Category', 'Rating', 'Reviews', 'Size', 'Installs', 'Type', 'Price', 'Content Rating', 'Genres', 'Last Updated', 'Current Ver', 'Android Ver']\n",
      "\n",
      "\n",
      "['Photo Editor & Candy Camera & Grid & ScrapBook', 'ART_AND_DESIGN', '4.1', '159', '19M', '10,000+', 'Free', '0', 'Everyone', 'Art & Design', 'January 7, 2018', '1.0.0', '4.0.3 and up']\n",
      "\n",
      "\n",
      "['Coloring book moana', 'ART_AND_DESIGN', '3.9', '967', '14M', '500,000+', 'Free', '0', 'Everyone', 'Art & Design;Pretend Play', 'January 15, 2018', '2.0.0', '4.0.3 and up']\n",
      "\n",
      "\n",
      "Number of rows:  10841\n",
      "Number of columns:  13\n"
     ]
    }
   ],
   "source": [
    "# Выводим первые 3 ряда из датасета Google Play\n",
    "explore_data(google_play_data, 0, 3, True)"
   ]
  },
  {
   "cell_type": "markdown",
   "metadata": {},
   "source": [
    "Набор данных Google Play Market содержит 10841 ряд и 13 колонок. Для целей нашего исследования будут полезны\n",
    "следующие колонки: 'App', 'Category', 'Rating', 'Reviews', 'Installs', 'Type', 'Price', 'Genres' ('App', 'Category', 'Reviews', 'Installs', 'Type', 'Price', and 'Genres')."
   ]
  },
  {
   "cell_type": "code",
   "execution_count": 4,
   "metadata": {
    "scrolled": true
   },
   "outputs": [
    {
     "name": "stdout",
     "output_type": "stream",
     "text": [
      "['id', 'track_name', 'size_bytes', 'currency', 'price', 'rating_count_tot', 'rating_count_ver', 'user_rating', 'user_rating_ver', 'ver', 'cont_rating', 'prime_genre', 'sup_devices.num', 'ipadSc_urls.num', 'lang.num', 'vpp_lic']\n",
      "\n",
      "\n",
      "['284882215', 'Facebook', '389879808', 'USD', '0.0', '2974676', '212', '3.5', '3.5', '95.0', '4+', 'Social Networking', '37', '1', '29', '1']\n",
      "\n",
      "\n",
      "['389801252', 'Instagram', '113954816', 'USD', '0.0', '2161558', '1289', '4.5', '4.0', '10.23', '12+', 'Photo & Video', '37', '0', '29', '1']\n",
      "\n",
      "\n",
      "Number of rows:  7197\n",
      "Number of columns:  16\n"
     ]
    }
   ],
   "source": [
    "# Выводим первые 3 ряда из датасета Apple Store\n",
    "explore_data(apple_store_data, 0, 3, True)"
   ]
  },
  {
   "cell_type": "markdown",
   "metadata": {},
   "source": [
    "Набор данных Apple App Store содержит 7197 рядов и 16 колонок. Для нашего исследования могут быть полезны следующие колонки: 'track_name', 'price', 'rating_count_tot', 'user_rating', prime_genre ('track_name', 'currency', 'price', 'rating_count_tot', 'rating_count_ver', and 'prime_genre'). Не все названия колонок являются понятными, поэтому для выяснения их значений можно обратиться к [документации](https://www.kaggle.com/ramamet4/app-store-apple-data-set-10k-apps) этого набора данных."
   ]
  },
  {
   "cell_type": "markdown",
   "metadata": {},
   "source": [
    "## Удаление ненужных данных"
   ]
  },
  {
   "cell_type": "markdown",
   "metadata": {},
   "source": [
    "Выше мы поверхностно проанализировали данные с которыми предстоит работа. Для выполнения полноценного анализа мы должны убедиться в том, что имеющиеся наборы данных будут содержать только корректную информацию, анализ которой не вызовет ошибок в наших расчетах.\n",
    "\n",
    "Очистка данных будет включать в себя следующие операции:\n",
    "* исправление записей содержащих некорректную информацию или удаление их\n",
    "* удаление дублирующихся записей\n",
    "* удаление всех записей о неанглоязычных приложениях (текущая задача подразумивает анализ только англоязычной аудитории)\n",
    "* удаление всех платных приложений (наша задача подразумевает анализ только беспатных приложений)"
   ]
  },
  {
   "cell_type": "markdown",
   "metadata": {},
   "source": [
    "Создадим функцию `clean_another_length_rows()` которая будет получать список, содержащий заголовки в первой строке \n",
    "и возвращающую новый список, где будут удалены все строки, колличество элементов в которых будет отличаться от колличества элементов в строке заголовков"
   ]
  },
  {
   "cell_type": "code",
   "execution_count": 5,
   "metadata": {},
   "outputs": [],
   "source": [
    "def clean_another_length_rows(datalist, info = False):\n",
    "    headers_length = len(datalist[0])\n",
    "    origin_length = len(datalist)\n",
    "    for index, row in enumerate(datalist):\n",
    "        if len(row) != headers_length:\n",
    "            if info:\n",
    "                print('row number: ', index)\n",
    "                print(row, '\\n')\n",
    "            del datalist[index]        \n",
    "    if info:\n",
    "        print('origin length: ', origin_length)\n",
    "        print('cleaned length: ', len(datalist))        \n",
    "    return datalist"
   ]
  },
  {
   "cell_type": "markdown",
   "metadata": {},
   "source": [
    "С помощью функции `clean_another_length_rows()` очистим список с данными Google Play Market `google_play_data`:"
   ]
  },
  {
   "cell_type": "code",
   "execution_count": 6,
   "metadata": {},
   "outputs": [
    {
     "name": "stdout",
     "output_type": "stream",
     "text": [
      "row number:  10473\n",
      "['Life Made WI-Fi Touchscreen Photo Frame', '1.9', '19', '3.0M', '1,000+', 'Free', '0', 'Everyone', '', 'February 11, 2018', '1.0.19', '4.0 and up'] \n",
      "\n",
      "origin length:  10842\n",
      "cleaned length:  10841\n"
     ]
    }
   ],
   "source": [
    "google_play_data = clean_another_length_rows(google_play_data, info = True)"
   ]
  },
  {
   "cell_type": "markdown",
   "metadata": {},
   "source": [
    "В результате очистки мы удалили одну строку 10473, содержащую некорректные данные"
   ]
  },
  {
   "cell_type": "markdown",
   "metadata": {},
   "source": [
    "С помощью функции `clean_another_length_rows()` очистим список с данными Apple Store `apple_store_data`:"
   ]
  },
  {
   "cell_type": "code",
   "execution_count": 7,
   "metadata": {},
   "outputs": [
    {
     "name": "stdout",
     "output_type": "stream",
     "text": [
      "origin length:  7198\n",
      "cleaned length:  7198\n"
     ]
    }
   ],
   "source": [
    "apple_store_data = clean_another_length_rows(apple_store_data, info = True)"
   ]
  },
  {
   "cell_type": "markdown",
   "metadata": {},
   "source": [
    "В результате очистки `apple_store_data` функцией `clean_another_length_rows()` некорректных данный обнаружено\n",
    "не было, поэтому список `apple_store_data`остается неизменным."
   ]
  },
  {
   "cell_type": "code",
   "execution_count": 8,
   "metadata": {},
   "outputs": [],
   "source": [
    "## Выводы"
   ]
  }
 ],
 "metadata": {
  "kernelspec": {
   "display_name": "Python 3",
   "language": "python",
   "name": "python3"
  },
  "language_info": {
   "codemirror_mode": {
    "name": "ipython",
    "version": 3
   },
   "file_extension": ".py",
   "mimetype": "text/x-python",
   "name": "python",
   "nbconvert_exporter": "python",
   "pygments_lexer": "ipython3",
   "version": "3.7.6"
  }
 },
 "nbformat": 4,
 "nbformat_minor": 4
}
